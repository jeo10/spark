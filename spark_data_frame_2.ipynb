{
 "cells": [
  {
   "cell_type": "code",
   "execution_count": 2,
   "metadata": {
    "collapsed": true,
    "pycharm": {
     "name": "#%%\n"
    }
   },
   "outputs": [],
   "source": [
    "from pyspark import SparkContext\n",
    "from pyspark.sql import SparkSession, SQLContext\n",
    "from pyspark.sql.types import StructType, StructField, IntegerType, StringType, FloatType, Row\n",
    "from pyspark.sql.functions import *"
   ]
  },
  {
   "cell_type": "code",
   "execution_count": 3,
   "outputs": [
    {
     "name": "stderr",
     "output_type": "stream",
     "text": [
      "22/10/01 18:55:09 WARN Utils: Your hostname, debian resolves to a loopback address: 127.0.1.1; using 192.168.100.4 instead (on interface eno2)\n",
      "22/10/01 18:55:09 WARN Utils: Set SPARK_LOCAL_IP if you need to bind to another address\n",
      "WARNING: An illegal reflective access operation has occurred\n",
      "WARNING: Illegal reflective access by org.apache.spark.unsafe.Platform (file:/home/jeo/anaconda3/envs/data/lib/python3.9/site-packages/pyspark/jars/spark-unsafe_2.12-3.1.2.jar) to constructor java.nio.DirectByteBuffer(long,int)\n",
      "WARNING: Please consider reporting this to the maintainers of org.apache.spark.unsafe.Platform\n",
      "WARNING: Use --illegal-access=warn to enable warnings of further illegal reflective access operations\n",
      "WARNING: All illegal access operations will be denied in a future release\n",
      "22/10/01 18:55:09 WARN NativeCodeLoader: Unable to load native-hadoop library for your platform... using builtin-java classes where applicable\n",
      "Using Spark's default log4j profile: org/apache/spark/log4j-defaults.properties\n",
      "Setting default log level to \"WARN\".\n",
      "To adjust logging level use sc.setLogLevel(newLevel). For SparkR, use setLogLevel(newLevel).\n"
     ]
    }
   ],
   "source": [
    "spark = SparkContext(master='local', appName='DataFrames')\n",
    "sqlContext = SQLContext(spark)"
   ],
   "metadata": {
    "collapsed": false,
    "pycharm": {
     "name": "#%%\n"
    }
   }
  },
  {
   "cell_type": "code",
   "execution_count": 4,
   "outputs": [],
   "source": [
    "path_file = '/home/jeo/Documents/platzi/curso_de_fundamentos_de_spark_para_big_data/curso-apache-spark-platzi-master/files/'"
   ],
   "metadata": {
    "collapsed": false,
    "pycharm": {
     "name": "#%%\n"
    }
   }
  },
  {
   "cell_type": "code",
   "execution_count": 5,
   "outputs": [],
   "source": [
    "def eliminar_encabezado(indice, iterador):\n",
    "    return iter(list(iterador)[1:])"
   ],
   "metadata": {
    "collapsed": false,
    "pycharm": {
     "name": "#%%\n"
    }
   }
  },
  {
   "cell_type": "code",
   "execution_count": 6,
   "outputs": [
    {
     "name": "stdout",
     "output_type": "stream",
     "text": [
      "+---------+--------------------+----------+\n",
      "|evento_id|              nombre|deporte_id|\n",
      "+---------+--------------------+----------+\n",
      "|        1|Basketball Men's ...|         1|\n",
      "|        2|Judo Men's Extra-...|         2|\n",
      "|        3|Football Men's Fo...|         3|\n",
      "|        4|Tug-Of-War Men's ...|         4|\n",
      "|        5|Speed Skating Wom...|         5|\n",
      "+---------+--------------------+----------+\n",
      "only showing top 5 rows\n",
      "\n"
     ]
    },
    {
     "name": "stderr",
     "output_type": "stream",
     "text": [
      "22/10/01 18:55:18 WARN CSVHeaderChecker: CSV header does not conform to the schema.\n",
      " Header: evento_id, evento, deporte_id\n",
      " Schema: evento_id, nombre, deporte_id\n",
      "Expected: nombre but found: evento\n",
      "CSV file: file:///home/jeo/Documents/platzi/curso_de_fundamentos_de_spark_para_big_data/curso-apache-spark-platzi-master/files/evento.csv\n"
     ]
    }
   ],
   "source": [
    "eventoSchemaRDD = StructType([\n",
    "    StructField('evento_id', IntegerType(), False),\n",
    "    StructField('nombre', StringType(), False),\n",
    "    StructField('deporte_id', IntegerType(), False)\n",
    "])\n",
    "eventoDF = sqlContext.read.schema(eventoSchemaRDD).option('header', 'True').csv(path_file + 'evento.csv')\n",
    "eventoDF.show(5)"
   ],
   "metadata": {
    "collapsed": false,
    "pycharm": {
     "name": "#%%\n"
    }
   }
  },
  {
   "cell_type": "code",
   "execution_count": 7,
   "outputs": [
    {
     "name": "stdout",
     "output_type": "stream",
     "text": [
      "+---------+--------------------+-----+\n",
      "|id_equipo|              equipo|sigla|\n",
      "+---------+--------------------+-----+\n",
      "|        1|         30. Februar|  AUT|\n",
      "|        2|A North American ...|  MEX|\n",
      "|        3|           Acipactli|  MEX|\n",
      "|        4|             Acturus|  ARG|\n",
      "|        5|         Afghanistan|  AFG|\n",
      "+---------+--------------------+-----+\n",
      "only showing top 5 rows\n",
      "\n"
     ]
    },
    {
     "name": "stderr",
     "output_type": "stream",
     "text": [
      "22/10/01 18:55:20 WARN CSVHeaderChecker: CSV header does not conform to the schema.\n",
      " Header: id, equipo, sigla\n",
      " Schema: id_equipo, equipo, sigla\n",
      "Expected: id_equipo but found: id\n",
      "CSV file: file:///home/jeo/Documents/platzi/curso_de_fundamentos_de_spark_para_big_data/curso-apache-spark-platzi-master/files/paises.csv\n"
     ]
    }
   ],
   "source": [
    "paises_schema = StructType([\n",
    "    StructField('id_equipo', IntegerType(), False),\n",
    "    StructField('equipo', StringType(), False),\n",
    "    StructField('sigla', StringType(), False)\n",
    "])\n",
    "paisesDF = sqlContext.read.schema(paises_schema).option('header', 'True').csv(path_file + 'paises.csv')\n",
    "paisesDF.show(5)"
   ],
   "metadata": {
    "collapsed": false,
    "pycharm": {
     "name": "#%%\n"
    }
   }
  },
  {
   "cell_type": "code",
   "execution_count": 11,
   "outputs": [
    {
     "name": "stdout",
     "output_type": "stream",
     "text": [
      "+----------+-------------+\n",
      "|deporte_id|      deporte|\n",
      "+----------+-------------+\n",
      "|         1|   Basketball|\n",
      "|         2|         Judo|\n",
      "|         3|     Football|\n",
      "|         4|   Tug-Of-War|\n",
      "|         5|Speed Skating|\n",
      "+----------+-------------+\n",
      "only showing top 5 rows\n",
      "\n"
     ]
    }
   ],
   "source": [
    "deportesOlimpicosRDDSchema = StructType(\n",
    "    [StructField(\"deporte_id\",IntegerType(),False),\n",
    "     StructField(\"deporte\",StringType(),False)\n",
    "     ])\n",
    "\n",
    "deportesDF = sqlContext.read.schema(deportesOlimpicosRDDSchema).option(\"header\",\"true\").csv(path_file+\"deporte.csv\")\n",
    "deportesDF.show(5)"
   ],
   "metadata": {
    "collapsed": false,
    "pycharm": {
     "name": "#%%\n"
    }
   }
  },
  {
   "cell_type": "code",
   "execution_count": 9,
   "outputs": [
    {
     "name": "stdout",
     "output_type": "stream",
     "text": [
      "+-------------+--------------------+------+----+------+----+---------+\n",
      "|deportista_id|              nombre|genero|edad|altura|peso|equipo_id|\n",
      "+-------------+--------------------+------+----+------+----+---------+\n",
      "|            1|           A Dijiang|     1|  24|   180|80.0|      199|\n",
      "|            2|            A Lamusi|     1|  23|   170|60.0|      199|\n",
      "|            3| Gunnar Nielsen Aaby|     1|  24|     0| 0.0|      273|\n",
      "|            4|Edgar Lindenau Aabye|     1|  34|     0| 0.0|      278|\n",
      "|            5|Christine Jacoba ...|     2|  21|   185|82.0|      705|\n",
      "+-------------+--------------------+------+----+------+----+---------+\n",
      "only showing top 5 rows\n",
      "\n"
     ]
    },
    {
     "name": "stderr",
     "output_type": "stream",
     "text": [
      "                                                                                \r"
     ]
    }
   ],
   "source": [
    "deportistaOlimpicoRDD = spark.textFile(path_file+'deportista.csv') \\\n",
    "                        .map(lambda l: l.split(\",\"))\n",
    "deportistaOlimpicoRDD2 = spark.textFile(path_file+'deportista2.csv') \\\n",
    "                        .map(lambda l: l.split(\",\"))\n",
    "deportistaOlimpicoRDD = deportistaOlimpicoRDD.union(deportistaOlimpicoRDD2)\n",
    "deportistaOlimpicoRDD = deportistaOlimpicoRDD.mapPartitionsWithIndex(eliminar_encabezado)\n",
    "deportistaOlimpicoRDD = deportistaOlimpicoRDD.map(lambda l: (\n",
    "    int(l[0]),\n",
    "    str(l[1]),\n",
    "    int(l[2]),\n",
    "    int(l[3]),\n",
    "    int(l[4]),\n",
    "    float(l[5]),\n",
    "    int(l[6])\n",
    "))\n",
    "\n",
    "deportistaSchema = StructType([\n",
    "    StructField('deportista_id', IntegerType(), False),\n",
    "    StructField('nombre', StringType(), False),\n",
    "    StructField('genero', IntegerType(), False),\n",
    "    StructField('edad', IntegerType(), False),\n",
    "    StructField('altura', IntegerType(), False),\n",
    "    StructField('peso', FloatType(), False),\n",
    "    StructField('equipo_id', IntegerType(), False)\n",
    "])\n",
    "\n",
    "deportistaDF = sqlContext.createDataFrame(deportistaOlimpicoRDD, deportistaSchema)\n",
    "deportistaDF.show(5)"
   ],
   "metadata": {
    "collapsed": false,
    "pycharm": {
     "name": "#%%\n"
    }
   }
  },
  {
   "cell_type": "code",
   "execution_count": 12,
   "outputs": [
    {
     "name": "stdout",
     "output_type": "stream",
     "text": [
      "+------------+-------+-------------+--------+---------+\n",
      "|resultado_id|medalla|deportista_id|juego_id|evento_id|\n",
      "+------------+-------+-------------+--------+---------+\n",
      "|           1|     NA|            1|      39|        1|\n",
      "|           2|     NA|            2|      49|        2|\n",
      "|           3|     NA|            3|       7|        3|\n",
      "|           4|   Gold|            4|       2|        4|\n",
      "|           5|     NA|            5|      36|        5|\n",
      "+------------+-------+-------------+--------+---------+\n",
      "only showing top 5 rows\n",
      "\n"
     ]
    }
   ],
   "source": [
    "resultadoSchemaRDD = StructType([\n",
    "    StructField('resultado_id', IntegerType(), False),\n",
    "    StructField('medalla', StringType(), False),\n",
    "    StructField('deportista_id', IntegerType(), False),\n",
    "    StructField('juego_id', IntegerType(), False),\n",
    "    StructField('evento_id', IntegerType(), False)\n",
    "])\n",
    "\n",
    "resultadoDF = sqlContext.read.schema(resultadoSchemaRDD).option(\"header\",\"true\").csv(path_file+\"resultados.csv\")\n",
    "resultadoDF.show(5)"
   ],
   "metadata": {
    "collapsed": false,
    "pycharm": {
     "name": "#%%\n"
    }
   }
  },
  {
   "cell_type": "code",
   "execution_count": 13,
   "outputs": [
    {
     "name": "stdout",
     "output_type": "stream",
     "text": [
      "+--------+------------+----+---------+---------+\n",
      "|juego_id|nombre_juego|anio|temporada|   ciudad|\n",
      "+--------+------------+----+---------+---------+\n",
      "|       1| 1896 Verano|1896|   Verano|   Athina|\n",
      "|       2| 1900 Verano|1900|   Verano|    Paris|\n",
      "|       3| 1904 Verano|1904|   Verano|St. Louis|\n",
      "|       4| 1906 Verano|1906|   Verano|   Athina|\n",
      "|       5| 1908 Verano|1908|   Verano|   London|\n",
      "+--------+------------+----+---------+---------+\n",
      "only showing top 5 rows\n",
      "\n"
     ]
    },
    {
     "name": "stderr",
     "output_type": "stream",
     "text": [
      "22/10/01 19:00:45 WARN CSVHeaderChecker: CSV header does not conform to the schema.\n",
      " Header: , nombre_juego, annio, temporada, ciudad\n",
      " Schema: juego_id, nombre_juego, anio, temporada, ciudad\n",
      "Expected: juego_id but found: \n",
      "CSV file: file:///home/jeo/Documents/platzi/curso_de_fundamentos_de_spark_para_big_data/curso-apache-spark-platzi-master/files/juegos.csv\n"
     ]
    }
   ],
   "source": [
    "juegoSchema = StructType([\n",
    "    StructField('juego_id', IntegerType(), False),\n",
    "    StructField('nombre_juego', StringType(), False),\n",
    "    StructField('anio', StringType(), False),\n",
    "    StructField('temporada', StringType(), False),\n",
    "    StructField('ciudad', StringType(), False)\n",
    "])\n",
    "\n",
    "juegoDataFrame = sqlContext.read.schema(juegoSchema).option(\"header\",\"true\").csv(path_file+\"juegos.csv\")\n",
    "juegoDataFrame.show(5)"
   ],
   "metadata": {
    "collapsed": false,
    "pycharm": {
     "name": "#%%\n"
    }
   }
  },
  {
   "cell_type": "code",
   "execution_count": 14,
   "outputs": [
    {
     "name": "stderr",
     "output_type": "stream",
     "text": [
      "22/10/01 19:01:06 WARN CSVHeaderChecker: CSV header does not conform to the schema.\n",
      " Header: , annio\n",
      " Schema: juego_id, anio\n",
      "Expected: juego_id but found: \n",
      "CSV file: file:///home/jeo/Documents/platzi/curso_de_fundamentos_de_spark_para_big_data/curso-apache-spark-platzi-master/files/juegos.csv\n",
      "22/10/01 19:01:06 WARN CSVHeaderChecker: CSV header does not conform to the schema.\n",
      " Header: evento_id, evento\n",
      " Schema: evento_id, nombre\n",
      "Expected: nombre but found: evento\n",
      "CSV file: file:///home/jeo/Documents/platzi/curso_de_fundamentos_de_spark_para_big_data/curso-apache-spark-platzi-master/files/evento.csv\n"
     ]
    },
    {
     "name": "stdout",
     "output_type": "stream",
     "text": [
      "+--------------------+-------------+-------+------------+--------------------+\n",
      "|              nombre|Edad Al Jugar|medalla|Año de juego|Nombre de disciplina|\n",
      "+--------------------+-------------+-------+------------+--------------------+\n",
      "|           A Dijiang|           24|     NA|        1992|Basketball Men's ...|\n",
      "|            A Lamusi|           23|     NA|        2012|Judo Men's Extra-...|\n",
      "| Gunnar Nielsen Aaby|           24|     NA|        1920|Football Men's Fo...|\n",
      "|Edgar Lindenau Aabye|           34|   Gold|        1900|Tug-Of-War Men's ...|\n",
      "|Christine Jacoba ...|           21|     NA|        1994|Speed Skating Wom...|\n",
      "+--------------------+-------------+-------+------------+--------------------+\n",
      "only showing top 5 rows\n",
      "\n"
     ]
    }
   ],
   "source": [
    "deportistaDF.join(\n",
    "    resultadoDF,\n",
    "    deportistaDF.deportista_id == resultadoDF.deportista_id,\n",
    "    'left'\n",
    ") \\\n",
    ".join(\n",
    "    juegoDataFrame,\n",
    "    resultadoDF.juego_id == juegoDataFrame.juego_id,\n",
    "    'left'\n",
    ") \\\n",
    ".join(\n",
    "    eventoDF,\n",
    "    resultadoDF.evento_id == eventoDF.evento_id,\n",
    "    'left'\n",
    ") \\\n",
    ".select(deportistaDF.nombre,\n",
    "        col('edad').alias('Edad Al Jugar'),\n",
    "        'medalla',\n",
    "        col('anio').alias('Año de juego'),\n",
    "        eventoDF.nombre.alias('Nombre de disciplina')) \\\n",
    ".show(5)"
   ],
   "metadata": {
    "collapsed": false,
    "pycharm": {
     "name": "#%%\n"
    }
   }
  },
  {
   "cell_type": "code",
   "execution_count": 29,
   "outputs": [
    {
     "name": "stderr",
     "output_type": "stream",
     "text": [
      "22/10/01 17:17:41 WARN CSVHeaderChecker: CSV header does not conform to the schema.\n",
      " Header: id, equipo, sigla\n",
      " Schema: id_equipo, equipo, sigla\n",
      "Expected: id_equipo but found: id\n",
      "CSV file: file:///home/jeo/Documents/platzi/curso_de_fundamentos_de_spark_para_big_data/curso-apache-spark-platzi-master/files/paises.csv\n",
      "[Stage 13:==============================================>       (174 + 1) / 200]\r"
     ]
    },
    {
     "name": "stdout",
     "output_type": "stream",
     "text": [
      "+-------+--------+-----+\n",
      "|medalla|  equipo|sigla|\n",
      "+-------+--------+-----+\n",
      "|   Gold|Zimbabwe|  ZIM|\n",
      "|   Gold|Zimbabwe|  ZIM|\n",
      "|   Gold|Zimbabwe|  ZIM|\n",
      "|   Gold|Zimbabwe|  ZIM|\n",
      "|   Gold|Zimbabwe|  ZIM|\n",
      "| Silver|Zimbabwe|  ZIM|\n",
      "|   Gold|Zimbabwe|  ZIM|\n",
      "|   Gold|Zimbabwe|  ZIM|\n",
      "|   Gold|Zimbabwe|  ZIM|\n",
      "|   Gold|Zimbabwe|  ZIM|\n",
      "|   Gold|Zimbabwe|  ZIM|\n",
      "| Silver|Zimbabwe|  ZIM|\n",
      "| Bronze|Zimbabwe|  ZIM|\n",
      "| Silver|Zimbabwe|  ZIM|\n",
      "| Silver|Zimbabwe|  ZIM|\n",
      "|   Gold|Zimbabwe|  ZIM|\n",
      "|   Gold|Zimbabwe|  ZIM|\n",
      "|   Gold|Zimbabwe|  ZIM|\n",
      "|   Gold|Zimbabwe|  ZIM|\n",
      "|   Gold|Zimbabwe|  ZIM|\n",
      "+-------+--------+-----+\n",
      "only showing top 20 rows\n",
      "\n"
     ]
    },
    {
     "name": "stderr",
     "output_type": "stream",
     "text": [
      "                                                                                \r"
     ]
    }
   ],
   "source": [
    "resultadoDF.filter(resultadoDF.medalla != 'NA') \\\n",
    "    .join(\n",
    "        deportistaDF,\n",
    "        resultadoDF.deportista_id == deportistaDF.deportista_id,\n",
    "        'left') \\\n",
    "    .join(\n",
    "        paisesDF,\n",
    "        deportistaDF.equipo_id == paisesDF.id_equipo,\n",
    "        'left') \\\n",
    "    .select(resultadoDF.medalla, paisesDF.equipo, paisesDF.sigla) \\\n",
    "    .sort(col('sigla').desc()) \\\n",
    "    .show()"
   ],
   "metadata": {
    "collapsed": false,
    "pycharm": {
     "name": "#%%\n"
    }
   }
  },
  {
   "cell_type": "code",
   "execution_count": 30,
   "outputs": [
    {
     "name": "stderr",
     "output_type": "stream",
     "text": [
      "22/10/01 17:17:44 WARN CSVHeaderChecker: CSV header does not conform to the schema.\n",
      " Header: , annio\n",
      " Schema: juego_id, anio\n",
      "Expected: juego_id but found: \n",
      "CSV file: file:///home/jeo/Documents/platzi/curso_de_fundamentos_de_spark_para_big_data/curso-apache-spark-platzi-master/files/juegos.csv\n",
      "22/10/01 17:17:44 WARN CSVHeaderChecker: CSV header does not conform to the schema.\n",
      " Header: id, sigla\n",
      " Schema: id_equipo, sigla\n",
      "Expected: id_equipo but found: id\n",
      "CSV file: file:///home/jeo/Documents/platzi/curso_de_fundamentos_de_spark_para_big_data/curso-apache-spark-platzi-master/files/paises.csv\n",
      "22/10/01 17:17:44 WARN CSVHeaderChecker: CSV header does not conform to the schema.\n",
      " Header: evento_id, evento, deporte_id\n",
      " Schema: evento_id, nombre, deporte_id\n",
      "Expected: nombre but found: evento\n",
      "CSV file: file:///home/jeo/Documents/platzi/curso_de_fundamentos_de_spark_para_big_data/curso-apache-spark-platzi-master/files/evento.csv\n"
     ]
    },
    {
     "name": "stdout",
     "output_type": "stream",
     "text": [
      "+-----+----+-------+--------------------+-----------------+--------------------+\n",
      "|sigla|anio|medalla|Nombre subdisciplina|Nombre disciplina|              nombre|\n",
      "+-----+----+-------+--------------------+-----------------+--------------------+\n",
      "|  CHN|1992|     NA|Basketball Men's ...|       Basketball|           A Dijiang|\n",
      "|  CHN|2012|     NA|Judo Men's Extra-...|             Judo|            A Lamusi|\n",
      "|  DEN|1920|     NA|Football Men's Fo...|         Football| Gunnar Nielsen Aaby|\n",
      "|  SWE|1900|   Gold|Tug-Of-War Men's ...|       Tug-Of-War|Edgar Lindenau Aabye|\n",
      "|  NED|1994|     NA|Speed Skating Wom...|    Speed Skating|Christine Jacoba ...|\n",
      "+-----+----+-------+--------------------+-----------------+--------------------+\n",
      "only showing top 5 rows\n",
      "\n"
     ]
    }
   ],
   "source": [
    "medallistaXAnio = deportistaDF.join(resultadoDF, deportistaDF.deportista_id ==resultadoDF.deportista_id,\"left\") \\\n",
    "        .join(juegoDataFrame, juegoDataFrame.juego_id == resultadoDF.juego_id,\"left\") \\\n",
    "        .join(paisesDF,deportistaDF.equipo_id == paisesDF.id_equipo,\"left\") \\\n",
    "        .join(eventoDF, eventoDF.evento_id == resultadoDF.evento_id,\"left\") \\\n",
    "        .join(deportesDF,eventoDF.deporte_id == deportesDF.deporte_id,\"left\") \\\n",
    "        .select(\"sigla\",\n",
    "                \"anio\",\n",
    "                \"medalla\",\n",
    "                eventoDF.nombre.alias(\"Nombre subdisciplina\"),\n",
    "                deportesDF.deporte.alias(\"Nombre disciplina\"),\n",
    "                deportistaDF.nombre)\n",
    "medallistaXAnio.show(5)"
   ],
   "metadata": {
    "collapsed": false,
    "pycharm": {
     "name": "#%%\n"
    }
   }
  },
  {
   "cell_type": "code",
   "execution_count": 31,
   "outputs": [
    {
     "name": "stderr",
     "output_type": "stream",
     "text": [
      "22/10/01 17:17:45 WARN CSVHeaderChecker: CSV header does not conform to the schema.\n",
      " Header: , annio\n",
      " Schema: juego_id, anio\n",
      "Expected: juego_id but found: \n",
      "CSV file: file:///home/jeo/Documents/platzi/curso_de_fundamentos_de_spark_para_big_data/curso-apache-spark-platzi-master/files/juegos.csv\n",
      "22/10/01 17:17:45 WARN CSVHeaderChecker: CSV header does not conform to the schema.\n",
      " Header: evento_id, evento, deporte_id\n",
      " Schema: evento_id, nombre, deporte_id\n",
      "Expected: nombre but found: evento\n",
      "CSV file: file:///home/jeo/Documents/platzi/curso_de_fundamentos_de_spark_para_big_data/curso-apache-spark-platzi-master/files/evento.csv\n",
      "22/10/01 17:17:45 WARN CSVHeaderChecker: CSV header does not conform to the schema.\n",
      " Header: id, sigla\n",
      " Schema: id_equipo, sigla\n",
      "Expected: id_equipo but found: id\n",
      "CSV file: file:///home/jeo/Documents/platzi/curso_de_fundamentos_de_spark_para_big_data/curso-apache-spark-platzi-master/files/paises.csv\n",
      "[Stage 26:=================================================>    (185 + 1) / 200]\r"
     ]
    },
    {
     "name": "stdout",
     "output_type": "stream",
     "text": [
      "+-----+----+--------------------+-----+\n",
      "|sigla|anio|Nombre subdisciplina|count|\n",
      "+-----+----+--------------------+-----+\n",
      "|  AUT|1896|Cycling Men's 10,...|    1|\n",
      "|  FRA|1896|Cycling Men's 100...|    1|\n",
      "|  AUT|1896|Cycling Men's 12-...|    1|\n",
      "|  GER|1896|Gymnastics Men's ...|    1|\n",
      "|  GRE|1896|Cycling Men's 333...|    1|\n",
      "|  HUN|1896|Tennis Men's Singles|    1|\n",
      "|  GER|1896|Gymnastics Men's ...|   10|\n",
      "|  GER|1896|Wrestling Men's U...|    1|\n",
      "|  FRA|1896|Cycling Men's 10,...|    2|\n",
      "|  USA|1896|Athletics Men's D...|    1|\n",
      "|  GRE|1896|Gymnastics Men's ...|    2|\n",
      "|  GER|1896|Gymnastics Men's ...|    1|\n",
      "|  FRA|1896|Cycling Men's Sprint|    2|\n",
      "|  GRE|1896|Athletics Men's M...|    2|\n",
      "|  GER|1896|Gymnastics Men's ...|    2|\n",
      "|  SUI|1896|Gymnastics Men's ...|    1|\n",
      "|  GBR|1896|Athletics Men's 4...|    1|\n",
      "|  USA|1896|Athletics Men's 4...|    2|\n",
      "|  GRE|1896|Cycling Men's 100...|    1|\n",
      "|  GER|1896|Gymnastics Men's ...|    2|\n",
      "+-----+----+--------------------+-----+\n",
      "only showing top 20 rows\n",
      "\n"
     ]
    },
    {
     "name": "stderr",
     "output_type": "stream",
     "text": [
      "                                                                                \r"
     ]
    }
   ],
   "source": [
    "medallistaXAnio2 = medallistaXAnio.filter(medallistaXAnio.medalla != 'NA') \\\n",
    "    .groupBy('sigla', 'anio', 'Nombre subdisciplina') \\\n",
    "    .count().sort('anio')\n",
    "medallistaXAnio2.show()"
   ],
   "metadata": {
    "collapsed": false,
    "pycharm": {
     "name": "#%%\n"
    }
   }
  },
  {
   "cell_type": "code",
   "execution_count": 32,
   "outputs": [
    {
     "name": "stdout",
     "output_type": "stream",
     "text": [
      "root\n",
      " |-- sigla: string (nullable = true)\n",
      " |-- anio: string (nullable = true)\n",
      " |-- Nombre subdisciplina: string (nullable = true)\n",
      " |-- count: long (nullable = false)\n",
      "\n"
     ]
    }
   ],
   "source": [
    "medallistaXAnio2.printSchema()"
   ],
   "metadata": {
    "collapsed": false,
    "pycharm": {
     "name": "#%%\n"
    }
   }
  },
  {
   "cell_type": "code",
   "execution_count": 33,
   "outputs": [
    {
     "name": "stderr",
     "output_type": "stream",
     "text": [
      "22/10/01 17:17:47 WARN CSVHeaderChecker: CSV header does not conform to the schema.\n",
      " Header: id, sigla\n",
      " Schema: id_equipo, sigla\n",
      "Expected: id_equipo but found: id\n",
      "CSV file: file:///home/jeo/Documents/platzi/curso_de_fundamentos_de_spark_para_big_data/curso-apache-spark-platzi-master/files/paises.csv\n",
      "22/10/01 17:17:47 WARN CSVHeaderChecker: CSV header does not conform to the schema.\n",
      " Header: , annio\n",
      " Schema: juego_id, anio\n",
      "Expected: juego_id but found: \n",
      "CSV file: file:///home/jeo/Documents/platzi/curso_de_fundamentos_de_spark_para_big_data/curso-apache-spark-platzi-master/files/juegos.csv\n",
      "22/10/01 17:17:47 WARN CSVHeaderChecker: CSV header does not conform to the schema.\n",
      " Header: evento_id, evento, deporte_id\n",
      " Schema: evento_id, nombre, deporte_id\n",
      "Expected: nombre but found: evento\n",
      "CSV file: file:///home/jeo/Documents/platzi/curso_de_fundamentos_de_spark_para_big_data/curso-apache-spark-platzi-master/files/evento.csv\n",
      "[Stage 33:=============================================>        (170 + 1) / 200]\r"
     ]
    },
    {
     "name": "stdout",
     "output_type": "stream",
     "text": [
      "+-----+----+-----------------+------------------+\n",
      "|sigla|anio|Total de medallas| Medallas promedio|\n",
      "+-----+----+-----------------+------------------+\n",
      "|  FRG|1984|              162|2.7457627118644066|\n",
      "|  RUS|1996|               75|1.7045454545454546|\n",
      "|  HUN|1952|              104|3.1515151515151514|\n",
      "|  AUS|1972|               20|1.1764705882352942|\n",
      "|  GBR|1906|               42|               2.1|\n",
      "|  PRK|2012|                6|               1.0|\n",
      "|  BEL|2004|                3|               1.0|\n",
      "|  DEN|1988|                7|              1.75|\n",
      "|  LUX|1920|                1|               1.0|\n",
      "|  CIV|2016|                2|               1.0|\n",
      "|  BOT|2012|                1|               1.0|\n",
      "|  NZL|1960|                3|               1.0|\n",
      "|  GER|1968|               42|1.6153846153846154|\n",
      "|  EGY|1936|                5|              1.25|\n",
      "|  DEN|1948|               51|2.3181818181818183|\n",
      "|  HUN|1906|               13|               1.3|\n",
      "|  SUI|1924|               69|              2.76|\n",
      "|  AUS|1992|               57|2.1923076923076925|\n",
      "|  TPE|2008|                4|               1.0|\n",
      "|  NOR|1960|               11|1.5714285714285714|\n",
      "+-----+----+-----------------+------------------+\n",
      "only showing top 20 rows\n",
      "\n"
     ]
    },
    {
     "name": "stderr",
     "output_type": "stream",
     "text": [
      "                                                                                \r"
     ]
    }
   ],
   "source": [
    "medallistaXAnio2.groupBy('sigla', 'anio') \\\n",
    "    .agg(sum('count').alias('Total de medallas'),\n",
    "         avg('count').alias('Medallas promedio')).show()"
   ],
   "metadata": {
    "collapsed": false,
    "pycharm": {
     "name": "#%%\n"
    }
   }
  },
  {
   "cell_type": "markdown",
   "source": [
    "#### Persistencia y particionado"
   ],
   "metadata": {
    "collapsed": false,
    "pycharm": {
     "name": "#%% md\n"
    }
   }
  },
  {
   "cell_type": "code",
   "execution_count": 35,
   "outputs": [],
   "source": [
    "from pyspark.storagelevel import StorageLevel"
   ],
   "metadata": {
    "collapsed": false,
    "pycharm": {
     "name": "#%%\n"
    }
   }
  },
  {
   "cell_type": "code",
   "execution_count": 36,
   "outputs": [
    {
     "data": {
      "text/plain": "False"
     },
     "execution_count": 36,
     "metadata": {},
     "output_type": "execute_result"
    }
   ],
   "source": [
    "medallistaXAnio.is_cached"
   ],
   "metadata": {
    "collapsed": false,
    "pycharm": {
     "name": "#%%\n"
    }
   }
  },
  {
   "cell_type": "code",
   "execution_count": 37,
   "outputs": [
    {
     "data": {
      "text/plain": "MapPartitionsRDD[165] at javaToPython at NativeMethodAccessorImpl.java:0"
     },
     "execution_count": 37,
     "metadata": {},
     "output_type": "execute_result"
    }
   ],
   "source": [
    "medallistaXAnio.rdd.cache()"
   ],
   "metadata": {
    "collapsed": false,
    "pycharm": {
     "name": "#%%\n"
    }
   }
  },
  {
   "cell_type": "code",
   "execution_count": 39,
   "outputs": [
    {
     "data": {
      "text/plain": "StorageLevel(False, True, False, False, 1)"
     },
     "execution_count": 39,
     "metadata": {},
     "output_type": "execute_result"
    }
   ],
   "source": [
    "medallistaXAnio.rdd.getStorageLevel()"
   ],
   "metadata": {
    "collapsed": false,
    "pycharm": {
     "name": "#%%\n"
    }
   }
  },
  {
   "cell_type": "code",
   "execution_count": 40,
   "outputs": [
    {
     "data": {
      "text/plain": "MapPartitionsRDD[165] at javaToPython at NativeMethodAccessorImpl.java:0"
     },
     "execution_count": 40,
     "metadata": {},
     "output_type": "execute_result"
    }
   ],
   "source": [
    "medallistaXAnio.rdd.unpersist()"
   ],
   "metadata": {
    "collapsed": false,
    "pycharm": {
     "name": "#%%\n"
    }
   }
  },
  {
   "cell_type": "code",
   "execution_count": 41,
   "outputs": [
    {
     "data": {
      "text/plain": "MapPartitionsRDD[165] at javaToPython at NativeMethodAccessorImpl.java:0"
     },
     "execution_count": 41,
     "metadata": {},
     "output_type": "execute_result"
    }
   ],
   "source": [
    "medallistaXAnio.rdd.persist(StorageLevel.MEMORY_AND_DISK_2)"
   ],
   "metadata": {
    "collapsed": false,
    "pycharm": {
     "name": "#%%\n"
    }
   }
  },
  {
   "cell_type": "markdown",
   "source": [
    "##### Crear StorageLevel"
   ],
   "metadata": {
    "collapsed": false,
    "pycharm": {
     "name": "#%% md\n"
    }
   }
  },
  {
   "cell_type": "code",
   "execution_count": 42,
   "outputs": [],
   "source": [
    "StorageLevel.MEMORY_AND_DISK_3 = StorageLevel(True, True, False, False, 3)"
   ],
   "metadata": {
    "collapsed": false,
    "pycharm": {
     "name": "#%%\n"
    }
   }
  },
  {
   "cell_type": "code",
   "execution_count": 43,
   "outputs": [
    {
     "data": {
      "text/plain": "MapPartitionsRDD[165] at javaToPython at NativeMethodAccessorImpl.java:0"
     },
     "execution_count": 43,
     "metadata": {},
     "output_type": "execute_result"
    }
   ],
   "source": [
    "medallistaXAnio.rdd.unpersist()"
   ],
   "metadata": {
    "collapsed": false,
    "pycharm": {
     "name": "#%%\n"
    }
   }
  },
  {
   "cell_type": "code",
   "execution_count": 44,
   "outputs": [
    {
     "data": {
      "text/plain": "MapPartitionsRDD[165] at javaToPython at NativeMethodAccessorImpl.java:0"
     },
     "execution_count": 44,
     "metadata": {},
     "output_type": "execute_result"
    }
   ],
   "source": [
    "medallistaXAnio.rdd.persist(StorageLevel.MEMORY_AND_DISK_3)"
   ],
   "metadata": {
    "collapsed": false,
    "pycharm": {
     "name": "#%%\n"
    }
   }
  },
  {
   "cell_type": "code",
   "execution_count": 34,
   "outputs": [],
   "source": [
    "#spark.stop()"
   ],
   "metadata": {
    "collapsed": false,
    "pycharm": {
     "name": "#%%\n"
    }
   }
  }
 ],
 "metadata": {
  "kernelspec": {
   "display_name": "Python 3",
   "language": "python",
   "name": "python3"
  },
  "language_info": {
   "codemirror_mode": {
    "name": "ipython",
    "version": 2
   },
   "file_extension": ".py",
   "mimetype": "text/x-python",
   "name": "python",
   "nbconvert_exporter": "python",
   "pygments_lexer": "ipython2",
   "version": "2.7.6"
  }
 },
 "nbformat": 4,
 "nbformat_minor": 0
}