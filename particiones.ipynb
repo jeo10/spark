{
 "cells": [
  {
   "cell_type": "code",
   "execution_count": 1,
   "metadata": {
    "collapsed": true,
    "pycharm": {
     "name": "#%%\n"
    }
   },
   "outputs": [],
   "source": [
    "from pyspark.sql import SparkSession"
   ]
  },
  {
   "cell_type": "code",
   "execution_count": 2,
   "outputs": [
    {
     "name": "stderr",
     "output_type": "stream",
     "text": [
      "22/10/01 17:45:30 WARN Utils: Your hostname, debian resolves to a loopback address: 127.0.1.1; using 192.168.100.4 instead (on interface eno2)\n",
      "22/10/01 17:45:30 WARN Utils: Set SPARK_LOCAL_IP if you need to bind to another address\n",
      "WARNING: An illegal reflective access operation has occurred\n",
      "WARNING: Illegal reflective access by org.apache.spark.unsafe.Platform (file:/home/jeo/anaconda3/envs/data/lib/python3.9/site-packages/pyspark/jars/spark-unsafe_2.12-3.1.2.jar) to constructor java.nio.DirectByteBuffer(long,int)\n",
      "WARNING: Please consider reporting this to the maintainers of org.apache.spark.unsafe.Platform\n",
      "WARNING: Use --illegal-access=warn to enable warnings of further illegal reflective access operations\n",
      "WARNING: All illegal access operations will be denied in a future release\n",
      "22/10/01 17:45:30 WARN NativeCodeLoader: Unable to load native-hadoop library for your platform... using builtin-java classes where applicable\n",
      "Using Spark's default log4j profile: org/apache/spark/log4j-defaults.properties\n",
      "Setting default log level to \"WARN\".\n",
      "To adjust logging level use sc.setLogLevel(newLevel). For SparkR, use setLogLevel(newLevel).\n"
     ]
    }
   ],
   "source": [
    "#local[5] defect partition\n",
    "spark = SparkSession.builder.appName('Particionado') \\\n",
    "    .master('local[5]').getOrCreate()"
   ],
   "metadata": {
    "collapsed": false,
    "pycharm": {
     "name": "#%%\n"
    }
   }
  },
  {
   "cell_type": "code",
   "execution_count": 12,
   "outputs": [],
   "source": [
    "path_file = '/home/jeo/Documents/platzi/curso_de_fundamentos_de_spark_para_big_data/curso-apache-spark-platzi-master/files/'\n",
    "path_file2 = '/home/jeo/Documents/platzi/curso_de_fundamentos_de_spark_para_big_data/personal/'"
   ],
   "metadata": {
    "collapsed": false,
    "pycharm": {
     "name": "#%%\n"
    }
   }
  },
  {
   "cell_type": "code",
   "execution_count": 3,
   "outputs": [
    {
     "data": {
      "text/plain": "5"
     },
     "execution_count": 3,
     "metadata": {},
     "output_type": "execute_result"
    }
   ],
   "source": [
    "df = spark.range(0, 20)\n",
    "df.rdd.getNumPartitions()"
   ],
   "metadata": {
    "collapsed": false,
    "pycharm": {
     "name": "#%%\n"
    }
   }
  },
  {
   "cell_type": "code",
   "execution_count": 4,
   "outputs": [
    {
     "data": {
      "text/plain": "10"
     },
     "execution_count": 4,
     "metadata": {},
     "output_type": "execute_result"
    }
   ],
   "source": [
    "rdd1 = spark.sparkContext.parallelize((0,20), 10)\n",
    "rdd1.getNumPartitions()"
   ],
   "metadata": {
    "collapsed": false,
    "pycharm": {
     "name": "#%%\n"
    }
   }
  },
  {
   "cell_type": "code",
   "execution_count": 6,
   "outputs": [],
   "source": [
    "rddDesdeArchivo = spark.sparkContext.textFile(path_file + 'deporte.csv', 10)"
   ],
   "metadata": {
    "collapsed": false,
    "pycharm": {
     "name": "#%%\n"
    }
   }
  },
  {
   "cell_type": "code",
   "execution_count": 11,
   "outputs": [
    {
     "data": {
      "text/plain": "10"
     },
     "execution_count": 11,
     "metadata": {},
     "output_type": "execute_result"
    }
   ],
   "source": [
    "rddDesdeArchivo.getNumPartitions()"
   ],
   "metadata": {
    "collapsed": false,
    "pycharm": {
     "name": "#%%\n"
    }
   }
  },
  {
   "cell_type": "code",
   "execution_count": 14,
   "outputs": [],
   "source": [
    "rddDesdeArchivo.saveAsTextFile(path_file2 + 'salidatexto')"
   ],
   "metadata": {
    "collapsed": false,
    "pycharm": {
     "name": "#%%\n"
    }
   }
  },
  {
   "cell_type": "code",
   "execution_count": 15,
   "outputs": [],
   "source": [
    "rdd = spark.sparkContext.wholeTextFiles(path_file2 + 'salidatexto/*')"
   ],
   "metadata": {
    "collapsed": false,
    "pycharm": {
     "name": "#%%\n"
    }
   }
  },
  {
   "cell_type": "code",
   "execution_count": 17,
   "outputs": [
    {
     "data": {
      "text/plain": "[('file:/home/jeo/Documents/platzi/curso_de_fundamentos_de_spark_para_big_data/personal/salidatexto/part-00000',\n  'deporte_id,deporte\\n1,Basketball\\n2,Judo\\n3,Football\\n4,Tug-Of-War\\n5,Speed Skating\\n6,Cross Country Skiing\\n'),\n ('file:/home/jeo/Documents/platzi/curso_de_fundamentos_de_spark_para_big_data/personal/salidatexto/part-00001',\n  '7,Athletics\\n8,Ice Hockey\\n9,Swimming\\n10,Badminton\\n11,Sailing\\n12,Biathlon\\n13,Gymnastics\\n14,Art Competitions\\n')]"
     },
     "execution_count": 17,
     "metadata": {},
     "output_type": "execute_result"
    }
   ],
   "source": [
    "rdd.take(2)"
   ],
   "metadata": {
    "collapsed": false,
    "pycharm": {
     "name": "#%%\n"
    }
   }
  },
  {
   "cell_type": "code",
   "execution_count": 24,
   "outputs": [],
   "source": [
    "lista = rdd.mapValues(lambda x: x.split()).collect()"
   ],
   "metadata": {
    "collapsed": false,
    "pycharm": {
     "name": "#%%\n"
    }
   }
  },
  {
   "cell_type": "code",
   "execution_count": 25,
   "outputs": [
    {
     "data": {
      "text/plain": "[('file:/home/jeo/Documents/platzi/curso_de_fundamentos_de_spark_para_big_data/personal/salidatexto/part-00000',\n  ['deporte_id,deporte',\n   '1,Basketball',\n   '2,Judo',\n   '3,Football',\n   '4,Tug-Of-War',\n   '5,Speed',\n   'Skating',\n   '6,Cross',\n   'Country',\n   'Skiing']),\n ('file:/home/jeo/Documents/platzi/curso_de_fundamentos_de_spark_para_big_data/personal/salidatexto/part-00001',\n  ['7,Athletics',\n   '8,Ice',\n   'Hockey',\n   '9,Swimming',\n   '10,Badminton',\n   '11,Sailing',\n   '12,Biathlon',\n   '13,Gymnastics',\n   '14,Art',\n   'Competitions']),\n ('file:/home/jeo/Documents/platzi/curso_de_fundamentos_de_spark_para_big_data/personal/salidatexto/part-00002',\n  ['15,Alpine',\n   'Skiing',\n   '16,Handball',\n   '17,Weightlifting',\n   '18,Wrestling',\n   '19,Luge',\n   '20,Water',\n   'Polo']),\n ('file:/home/jeo/Documents/platzi/curso_de_fundamentos_de_spark_para_big_data/personal/salidatexto/part-00003',\n  ['21,Hockey',\n   '22,Rowing',\n   '23,Bobsleigh',\n   '24,Fencing',\n   '25,Equestrianism',\n   '26,Shooting',\n   '27,Boxing',\n   '28,Taekwondo']),\n ('file:/home/jeo/Documents/platzi/curso_de_fundamentos_de_spark_para_big_data/personal/salidatexto/part-00004',\n  ['29,Cycling',\n   '30,Diving',\n   '31,Canoeing',\n   '32,Tennis',\n   '33,Modern',\n   'Pentathlon',\n   '34,Figure',\n   'Skating',\n   '35,Golf']),\n ('file:/home/jeo/Documents/platzi/curso_de_fundamentos_de_spark_para_big_data/personal/salidatexto/part-00005',\n  ['36,Softball',\n   '37,Archery',\n   '38,Volleyball',\n   '39,Synchronized',\n   'Swimming',\n   '40,Table',\n   'Tennis',\n   '41,Nordic',\n   'Combined']),\n ('file:/home/jeo/Documents/platzi/curso_de_fundamentos_de_spark_para_big_data/personal/salidatexto/part-00006',\n  ['42,Baseball',\n   '43,Rhythmic',\n   'Gymnastics',\n   '44,Freestyle',\n   'Skiing',\n   '45,Rugby',\n   'Sevens',\n   '46,Trampolining']),\n ('file:/home/jeo/Documents/platzi/curso_de_fundamentos_de_spark_para_big_data/personal/salidatexto/part-00007',\n  ['47,Beach',\n   'Volleyball',\n   '48,Triathlon',\n   '49,Ski',\n   'Jumping',\n   '50,Curling',\n   '51,Snowboarding',\n   '52,Rugby',\n   '53,Short',\n   'Track',\n   'Speed',\n   'Skating']),\n ('file:/home/jeo/Documents/platzi/curso_de_fundamentos_de_spark_para_big_data/personal/salidatexto/part-00008',\n  ['54,Skeleton',\n   '55,Lacrosse',\n   '56,Polo',\n   '57,Cricket',\n   '58,Racquets',\n   '59,Motorboating',\n   '60,Military',\n   'Ski',\n   'Patrol']),\n ('file:/home/jeo/Documents/platzi/curso_de_fundamentos_de_spark_para_big_data/personal/salidatexto/part-00009',\n  ['61,Croquet',\n   '62,Jeu',\n   'De',\n   'Paume',\n   '63,Roque',\n   '64,Alpinism',\n   '65,Basque',\n   'Pelota',\n   '66,Aeronautics'])]"
     },
     "execution_count": 25,
     "metadata": {},
     "output_type": "execute_result"
    }
   ],
   "source": [
    "lista"
   ],
   "metadata": {
    "collapsed": false,
    "pycharm": {
     "name": "#%%\n"
    }
   }
  },
  {
   "cell_type": "code",
   "execution_count": 26,
   "outputs": [],
   "source": [
    "lista = [l[0] for l in lista]\n",
    "lista.sort()"
   ],
   "metadata": {
    "collapsed": false,
    "pycharm": {
     "name": "#%%\n"
    }
   }
  },
  {
   "cell_type": "code",
   "execution_count": 27,
   "outputs": [
    {
     "data": {
      "text/plain": "['file:/home/jeo/Documents/platzi/curso_de_fundamentos_de_spark_para_big_data/personal/salidatexto/part-00000',\n 'file:/home/jeo/Documents/platzi/curso_de_fundamentos_de_spark_para_big_data/personal/salidatexto/part-00001',\n 'file:/home/jeo/Documents/platzi/curso_de_fundamentos_de_spark_para_big_data/personal/salidatexto/part-00002',\n 'file:/home/jeo/Documents/platzi/curso_de_fundamentos_de_spark_para_big_data/personal/salidatexto/part-00003',\n 'file:/home/jeo/Documents/platzi/curso_de_fundamentos_de_spark_para_big_data/personal/salidatexto/part-00004',\n 'file:/home/jeo/Documents/platzi/curso_de_fundamentos_de_spark_para_big_data/personal/salidatexto/part-00005',\n 'file:/home/jeo/Documents/platzi/curso_de_fundamentos_de_spark_para_big_data/personal/salidatexto/part-00006',\n 'file:/home/jeo/Documents/platzi/curso_de_fundamentos_de_spark_para_big_data/personal/salidatexto/part-00007',\n 'file:/home/jeo/Documents/platzi/curso_de_fundamentos_de_spark_para_big_data/personal/salidatexto/part-00008',\n 'file:/home/jeo/Documents/platzi/curso_de_fundamentos_de_spark_para_big_data/personal/salidatexto/part-00009']"
     },
     "execution_count": 27,
     "metadata": {},
     "output_type": "execute_result"
    }
   ],
   "source": [
    "lista"
   ],
   "metadata": {
    "collapsed": false,
    "pycharm": {
     "name": "#%%\n"
    }
   }
  },
  {
   "cell_type": "code",
   "execution_count": 28,
   "outputs": [
    {
     "data": {
      "text/plain": "[['deporte_id', 'deporte'],\n ['1', 'Basketball'],\n ['2', 'Judo'],\n ['3', 'Football'],\n ['4', 'Tug-Of-War']]"
     },
     "execution_count": 28,
     "metadata": {},
     "output_type": "execute_result"
    }
   ],
   "source": [
    "rdd2 = spark.sparkContext.textFile(','.join(lista), 10).map(lambda  l: l.split(','))\n",
    "rdd2.take(5)"
   ],
   "metadata": {
    "collapsed": false,
    "pycharm": {
     "name": "#%%\n"
    }
   }
  }
 ],
 "metadata": {
  "kernelspec": {
   "display_name": "Python 3",
   "language": "python",
   "name": "python3"
  },
  "language_info": {
   "codemirror_mode": {
    "name": "ipython",
    "version": 2
   },
   "file_extension": ".py",
   "mimetype": "text/x-python",
   "name": "python",
   "nbconvert_exporter": "python",
   "pygments_lexer": "ipython2",
   "version": "2.7.6"
  }
 },
 "nbformat": 4,
 "nbformat_minor": 0
}