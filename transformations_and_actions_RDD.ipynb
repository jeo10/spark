{
 "cells": [
  {
   "cell_type": "code",
   "execution_count": 1,
   "metadata": {
    "collapsed": true,
    "pycharm": {
     "name": "#%%\n"
    }
   },
   "outputs": [],
   "source": [
    "from pyspark import SparkContext"
   ]
  },
  {
   "cell_type": "code",
   "execution_count": 2,
   "outputs": [
    {
     "name": "stderr",
     "output_type": "stream",
     "text": [
      "22/09/29 20:51:29 WARN Utils: Your hostname, debian resolves to a loopback address: 127.0.1.1; using 192.168.100.4 instead (on interface eno2)\n",
      "22/09/29 20:51:29 WARN Utils: Set SPARK_LOCAL_IP if you need to bind to another address\n",
      "WARNING: An illegal reflective access operation has occurred\n",
      "WARNING: Illegal reflective access by org.apache.spark.unsafe.Platform (file:/home/jeo/anaconda3/envs/data/lib/python3.9/site-packages/pyspark/jars/spark-unsafe_2.12-3.1.2.jar) to constructor java.nio.DirectByteBuffer(long,int)\n",
      "WARNING: Please consider reporting this to the maintainers of org.apache.spark.unsafe.Platform\n",
      "WARNING: Use --illegal-access=warn to enable warnings of further illegal reflective access operations\n",
      "WARNING: All illegal access operations will be denied in a future release\n",
      "22/09/29 20:51:30 WARN NativeCodeLoader: Unable to load native-hadoop library for your platform... using builtin-java classes where applicable\n",
      "Using Spark's default log4j profile: org/apache/spark/log4j-defaults.properties\n",
      "Setting default log level to \"WARN\".\n",
      "To adjust logging level use sc.setLogLevel(newLevel). For SparkR, use setLogLevel(newLevel).\n"
     ]
    }
   ],
   "source": [
    "sc = SparkContext(master='local', appName='transformationsAndActions')"
   ],
   "metadata": {
    "collapsed": false,
    "pycharm": {
     "name": "#%%\n"
    }
   }
  },
  {
   "cell_type": "code",
   "execution_count": 3,
   "outputs": [
    {
     "data": {
      "text/plain": "pyspark.rdd.RDD"
     },
     "execution_count": 3,
     "metadata": {},
     "output_type": "execute_result"
    }
   ],
   "source": [
    "rdd1 = sc.parallelize([1, 2, 3])\n",
    "type(rdd1)"
   ],
   "metadata": {
    "collapsed": false,
    "pycharm": {
     "name": "#%%\n"
    }
   }
  },
  {
   "cell_type": "code",
   "execution_count": 4,
   "outputs": [
    {
     "data": {
      "text/plain": "[1, 2, 3]"
     },
     "execution_count": 4,
     "metadata": {},
     "output_type": "execute_result"
    }
   ],
   "source": [
    "rdd1.collect()"
   ],
   "metadata": {
    "collapsed": false,
    "pycharm": {
     "name": "#%%\n"
    }
   }
  },
  {
   "cell_type": "code",
   "execution_count": 5,
   "outputs": [
    {
     "data": {
      "text/plain": "<SparkContext master=local appName=transformationsAndActions>",
      "text/html": "\n        <div>\n            <p><b>SparkContext</b></p>\n\n            <p><a href=\"http://192.168.100.4:4040\">Spark UI</a></p>\n\n            <dl>\n              <dt>Version</dt>\n                <dd><code>v3.1.2</code></dd>\n              <dt>Master</dt>\n                <dd><code>local</code></dd>\n              <dt>AppName</dt>\n                <dd><code>transformationsAndActions</code></dd>\n            </dl>\n        </div>\n        "
     },
     "execution_count": 5,
     "metadata": {},
     "output_type": "execute_result"
    }
   ],
   "source": [
    "sc"
   ],
   "metadata": {
    "collapsed": false,
    "pycharm": {
     "name": "#%%\n"
    }
   }
  },
  {
   "cell_type": "code",
   "execution_count": 3,
   "outputs": [],
   "source": [
    "path_file = '/home/jeo/Documents/platzi/curso_de_fundamentos_de_spark_para_big_data/curso-apache-spark-platzi-master/files/'\n",
    "equiposOlimpicosRDD = sc.textFile(path_file+'paises.csv') \\\n",
    "                        .map(lambda line: line.split(','))"
   ],
   "metadata": {
    "collapsed": false,
    "pycharm": {
     "name": "#%%\n"
    }
   }
  },
  {
   "cell_type": "code",
   "execution_count": 5,
   "outputs": [
    {
     "data": {
      "text/plain": "[['id', 'equipo', 'sigla'],\n ['1', '30. Februar', 'AUT'],\n ['2', 'A North American Team', 'MEX'],\n ['3', 'Acipactli', 'MEX'],\n ['4', 'Acturus', 'ARG'],\n ['5', 'Afghanistan', 'AFG'],\n ['6', 'Akatonbo', 'IRL'],\n ['7', 'Alain IV', 'SUI'],\n ['8', 'Albania', 'ALB'],\n ['9', 'Alcaid', 'POR'],\n ['10', 'Alcyon-6', 'FRA'],\n ['11', 'Alcyon-7', 'FRA'],\n ['12', 'Aldebaran', 'ITA'],\n ['13', 'Aldebaran II', 'ITA'],\n ['14', 'Aletta', 'IRL']]"
     },
     "execution_count": 5,
     "metadata": {},
     "output_type": "execute_result"
    }
   ],
   "source": [
    "# number of lines to display\n",
    "equiposOlimpicosRDD.take(15)"
   ],
   "metadata": {
    "collapsed": false,
    "pycharm": {
     "name": "#%%\n"
    }
   }
  },
  {
   "cell_type": "code",
   "execution_count": 6,
   "outputs": [
    {
     "data": {
      "text/plain": "231"
     },
     "execution_count": 6,
     "metadata": {},
     "output_type": "execute_result"
    }
   ],
   "source": [
    "#it is preferable to use tuples than lists\n",
    "#number of countries\n",
    "equiposOlimpicosRDD.map(lambda x: (x[2])).distinct().count()"
   ],
   "metadata": {
    "collapsed": false,
    "pycharm": {
     "name": "#%%\n"
    }
   }
  },
  {
   "cell_type": "code",
   "execution_count": 7,
   "outputs": [
    {
     "data": {
      "text/plain": "[('sigla', 1), ('AUT', 11), ('MEX', 9), ('ARG', 18), ('AFG', 1)]"
     },
     "execution_count": 7,
     "metadata": {},
     "output_type": "execute_result"
    }
   ],
   "source": [
    "#number of teams per country\n",
    "equiposOlimpicosRDD.map(lambda x: (x[2], x[1])).groupByKey().mapValues(len).take(5)"
   ],
   "metadata": {
    "collapsed": false,
    "pycharm": {
     "name": "#%%\n"
    }
   }
  },
  {
   "cell_type": "code",
   "execution_count": 8,
   "outputs": [
    {
     "data": {
      "text/plain": "[('sigla', ['equipo']),\n ('AUT',\n  ['30. Februar',\n   'Austria',\n   'Austria-1',\n   'Austria-2',\n   'Breslau',\n   'Brigantia',\n   'Donar III',\n   'Evita VI',\n   'May-Be 1960',\n   '\"R.-V. Germania; Leitmeritz\"',\n   'Surprise']),\n ('MEX',\n  ['A North American Team',\n   'Acipactli',\n   'Chamukina',\n   'Mexico',\n   'Mexico-1',\n   'Mexico-2',\n   'Nausikaa 4',\n   'Tlaloc',\n   'Xolotl']),\n ('ARG',\n  ['Acturus',\n   'Antares',\n   'Arcturus',\n   'Ardilla',\n   'Argentina',\n   'Argentina-1',\n   'Argentina-2',\n   'Blue Red',\n   'Covunco III',\n   'Cupidon III',\n   'Djinn',\n   'Gullvinge',\n   'Matrero II',\n   'Mizar',\n   'Pampero',\n   'Rampage',\n   'Tango',\n   'Wiking']),\n ('AFG', ['Afghanistan'])]"
     },
     "execution_count": 8,
     "metadata": {},
     "output_type": "execute_result"
    }
   ],
   "source": [
    "#list of teams per country\n",
    "equiposOlimpicosRDD.map(lambda x: (x[2], x[1])).groupByKey().mapValues(list).take(5)"
   ],
   "metadata": {
    "collapsed": false,
    "pycharm": {
     "name": "#%%\n"
    }
   }
  },
  {
   "cell_type": "code",
   "execution_count": 9,
   "outputs": [
    {
     "data": {
      "text/plain": "[['4', 'Acturus', 'ARG'],\n ['37', 'Antares', 'ARG'],\n ['42', 'Arcturus', 'ARG'],\n ['43', 'Ardilla', 'ARG'],\n ['45', 'Argentina', 'ARG'],\n ['46', 'Argentina-1', 'ARG'],\n ['47', 'Argentina-2', 'ARG'],\n ['119', 'Blue Red', 'ARG'],\n ['238', 'Covunco III', 'ARG'],\n ['252', 'Cupidon III', 'ARG'],\n ['288', 'Djinn', 'ARG'],\n ['436', 'Gullvinge', 'ARG'],\n ['644', 'Matrero II', 'ARG'],\n ['672', 'Mizar', 'ARG'],\n ['774', 'Pampero', 'ARG'],\n ['843', 'Rampage', 'ARG'],\n ['1031', 'Tango', 'ARG'],\n ['1162', 'Wiking', 'ARG']]"
     },
     "execution_count": 9,
     "metadata": {},
     "output_type": "execute_result"
    }
   ],
   "source": [
    "#here use collect() because there are only 18 teams for ARG\n",
    "equiposArgentinos = equiposOlimpicosRDD.filter(lambda l: 'ARG' in l)\n",
    "equiposArgentinos.collect()"
   ],
   "metadata": {
    "collapsed": false,
    "pycharm": {
     "name": "#%%\n"
    }
   }
  },
  {
   "cell_type": "code",
   "execution_count": 10,
   "outputs": [
    {
     "data": {
      "text/plain": "1185"
     },
     "execution_count": 10,
     "metadata": {},
     "output_type": "execute_result"
    }
   ],
   "source": [
    "#count all dataset\n",
    "equiposOlimpicosRDD.count()"
   ],
   "metadata": {
    "collapsed": false,
    "pycharm": {
     "name": "#%%\n"
    }
   }
  },
  {
   "cell_type": "code",
   "execution_count": 11,
   "outputs": [
    {
     "data": {
      "text/plain": "1185"
     },
     "execution_count": 11,
     "metadata": {},
     "output_type": "execute_result"
    }
   ],
   "source": [
    "#count dataset by time\n",
    "equiposOlimpicosRDD.countApprox(20)"
   ],
   "metadata": {
    "collapsed": false,
    "pycharm": {
     "name": "#%%\n"
    }
   }
  },
  {
   "cell_type": "code",
   "execution_count": 4,
   "outputs": [],
   "source": [
    "deportistaOlimpicoRDD = sc.textFile(path_file+'deportista.csv') \\\n",
    "                        .map(lambda l: l.split(\",\"))\n",
    "deportistaOlimpicoRDD2 = sc.textFile(path_file+'deportista2.csv') \\\n",
    "                        .map(lambda l: l.split(\",\"))"
   ],
   "metadata": {
    "collapsed": false,
    "pycharm": {
     "name": "#%%\n"
    }
   }
  },
  {
   "cell_type": "code",
   "execution_count": 5,
   "outputs": [],
   "source": [
    "deportistaOlimpicoRDD = deportistaOlimpicoRDD.union(deportistaOlimpicoRDD2)"
   ],
   "metadata": {
    "collapsed": false,
    "pycharm": {
     "name": "#%%\n"
    }
   }
  },
  {
   "cell_type": "code",
   "execution_count": 14,
   "outputs": [
    {
     "data": {
      "text/plain": "135572"
     },
     "execution_count": 14,
     "metadata": {},
     "output_type": "execute_result"
    }
   ],
   "source": [
    "deportistaOlimpicoRDD.count()"
   ],
   "metadata": {
    "collapsed": false,
    "pycharm": {
     "name": "#%%\n"
    }
   }
  },
  {
   "cell_type": "code",
   "execution_count": 15,
   "outputs": [
    {
     "data": {
      "text/plain": "[['id', 'equipo', 'sigla'], ['999', 'Stella-2', 'NOR']]"
     },
     "execution_count": 15,
     "metadata": {},
     "output_type": "execute_result"
    }
   ],
   "source": [
    "equiposOlimpicosRDD.top(2)"
   ],
   "metadata": {
    "collapsed": false,
    "pycharm": {
     "name": "#%%\n"
    }
   }
  },
  {
   "cell_type": "code",
   "execution_count": 16,
   "outputs": [
    {
     "data": {
      "text/plain": "[['deportista_id', 'nombre', 'genero', 'edad', 'altura', 'peso', 'equipo_id'],\n ['99999', 'Alexander Grant Alick Rennie', '1', '32', '182', '71', '967']]"
     },
     "execution_count": 16,
     "metadata": {},
     "output_type": "execute_result"
    }
   ],
   "source": [
    "deportistaOlimpicoRDD.top(2)"
   ],
   "metadata": {
    "collapsed": false,
    "pycharm": {
     "name": "#%%\n"
    }
   }
  },
  {
   "cell_type": "code",
   "execution_count": 6,
   "outputs": [
    {
     "name": "stderr",
     "output_type": "stream",
     "text": [
      "                                                                                \r"
     ]
    },
    {
     "data": {
      "text/plain": "[('199', (['1', 'A Dijiang', '1', '24', '180', '80'], 'CHN')),\n ('199', (['2', 'A Lamusi', '1', '23', '170', '60'], 'CHN')),\n ('199', (['602', 'Abudoureheman', '1', '22', '182', '75'], 'CHN')),\n ('199', (['1463', 'Ai Linuer', '1', '25', '160', '62'], 'CHN')),\n ('199', (['1464', 'Ai Yanhan', '2', '14', '168', '54'], 'CHN')),\n ('199', (['3605', 'An Weijiang', '1', '22', '178', '72'], 'CHN')),\n ('199', (['3610', 'An Yulong', '1', '19', '173', '70'], 'CHN')),\n ('199', (['3611', 'An Zhongxin', '2', '23', '170', '65'], 'CHN')),\n ('199', (['4639', 'Ao Changrong', '1', '25', '173', '71'], 'CHN')),\n ('199', (['4641', 'Ao Tegen', '1', '21', '181', '90'], 'CHN'))]"
     },
     "execution_count": 6,
     "metadata": {},
     "output_type": "execute_result"
    }
   ],
   "source": [
    "deportistaOlimpicoRDD.map(lambda l: (l[-1], l[:-1])) \\\n",
    "    .join(equiposOlimpicosRDD.map(lambda x: (x[0], x[2]))) \\\n",
    "    .take(10)"
   ],
   "metadata": {
    "collapsed": false,
    "pycharm": {
     "name": "#%%\n"
    }
   }
  },
  {
   "cell_type": "code",
   "execution_count": 7,
   "outputs": [
    {
     "name": "stderr",
     "output_type": "stream",
     "text": [
      "                                                                                \r"
     ]
    },
    {
     "data": {
      "text/plain": "[('273',\n  (['56134', 'Niels Christian Kold Jrgensen', '1', '21', '0', '0'], 'DEN')),\n ('624', (['13109', 'Harry Arthur Bonavia', '1', '20', '0', '0'], 'MLT')),\n ('399', (['98241', 'Eberhard Radzik', '1', '25', '168', '75'], 'GER')),\n ('96', (['83781', 'Albert Muylle', '1', '0', '0', '0'], 'BEL')),\n ('1096',\n  (['101476', 'Clarence Franklin Robison', '1', '25', '192', '77'], 'USA')),\n ('967', (['18615', 'Lesley Carstens', '2', '27', '0', '0'], 'RSA')),\n ('362', (['78848', 'mile Mercier', '1', '0', '0', '0'], 'FRA')),\n ('810',\n  (['94563', 'Andrzej Ryszard Pitkowski', '1', '22', '169', '68'], 'POL')),\n ('1096', (['114820', 'Jerome Steinert', '1', '28', '0', '0'], 'USA')),\n ('576', (['32099', 'Assaf ElMurr', '1', '24', '0', '0'], 'LIB'))]"
     },
     "execution_count": 7,
     "metadata": {},
     "output_type": "execute_result"
    }
   ],
   "source": [
    "#random values\n",
    "deportistaOlimpicoRDD.map(lambda l: (l[-1], l[:-1])) \\\n",
    "    .join(equiposOlimpicosRDD.map(lambda x: (x[0], x[2]))) \\\n",
    "    .takeSample(False, 10, 25)"
   ],
   "metadata": {
    "collapsed": false,
    "pycharm": {
     "name": "#%%\n"
    }
   }
  },
  {
   "cell_type": "code",
   "execution_count": 6,
   "outputs": [],
   "source": [
    "resultado = sc.textFile(path_file+'resultados.csv') \\\n",
    "            .map(lambda l: l.split(','))"
   ],
   "metadata": {
    "collapsed": false,
    "pycharm": {
     "name": "#%%\n"
    }
   }
  },
  {
   "cell_type": "code",
   "execution_count": 7,
   "outputs": [],
   "source": [
    "resultadoGanador = resultado.filter(lambda l: 'NA' not in l[1])"
   ],
   "metadata": {
    "collapsed": false,
    "pycharm": {
     "name": "#%%\n"
    }
   }
  },
  {
   "cell_type": "code",
   "execution_count": 10,
   "outputs": [
    {
     "data": {
      "text/plain": "[['resultado_id', 'medalla', 'deportista_id', 'juego_id', 'evento_id'],\n ['4', 'Gold', '4', '2', '4']]"
     },
     "execution_count": 10,
     "metadata": {},
     "output_type": "execute_result"
    }
   ],
   "source": [
    "resultadoGanador.take(2)"
   ],
   "metadata": {
    "collapsed": false,
    "pycharm": {
     "name": "#%%\n"
    }
   }
  },
  {
   "cell_type": "markdown",
   "source": [
    "### Personal resolution"
   ],
   "metadata": {
    "collapsed": false,
    "pycharm": {
     "name": "#%% md\n"
    }
   }
  },
  {
   "cell_type": "markdown",
   "source": [
    "###### #join deportistaOlimpicoRDD and equiposOlimpicosRDD"
   ],
   "metadata": {
    "collapsed": false,
    "pycharm": {
     "name": "#%% md\n"
    }
   }
  },
  {
   "cell_type": "code",
   "execution_count": 8,
   "outputs": [],
   "source": [
    "equipoDeportistaOlimpico = deportistaOlimpicoRDD.map(lambda l: (l[-1], l[:-1])) \\\n",
    "                            .join(equiposOlimpicosRDD.map(lambda x: (x[0], x[2])))"
   ],
   "metadata": {
    "collapsed": false,
    "pycharm": {
     "name": "#%%\n"
    }
   }
  },
  {
   "cell_type": "code",
   "execution_count": 36,
   "outputs": [
    {
     "data": {
      "text/plain": "'CHN'"
     },
     "execution_count": 36,
     "metadata": {},
     "output_type": "execute_result"
    }
   ],
   "source": [
    "equipoDeportistaOlimpico.take(1)[0][1][1]"
   ],
   "metadata": {
    "collapsed": false,
    "pycharm": {
     "name": "#%%\n"
    }
   }
  },
  {
   "cell_type": "code",
   "execution_count": 29,
   "outputs": [],
   "source": [
    "paisesMedallas = equipoDeportistaOlimpico.map(lambda l: (l[1][0][0], (l[0], l[1][0][1:], l[1][1]))) \\\n",
    "    .join(resultadoGanador.map(lambda x: (x[2], x[1])))"
   ],
   "metadata": {
    "collapsed": false,
    "pycharm": {
     "name": "#%%\n"
    }
   }
  },
  {
   "cell_type": "code",
   "execution_count": 20,
   "outputs": [
    {
     "data": {
      "text/plain": "'Silver'"
     },
     "execution_count": 20,
     "metadata": {},
     "output_type": "execute_result"
    }
   ],
   "source": [
    "paisesMedallas.take(1)[0][1][1]"
   ],
   "metadata": {
    "collapsed": false,
    "pycharm": {
     "name": "#%%\n"
    }
   }
  },
  {
   "cell_type": "code",
   "execution_count": 11,
   "outputs": [
    {
     "data": {
      "text/plain": "[('65',\n  (('74', ['Patimat Abakarova', '2', '21', '165', '49'], 'AZE'), 'Bronze'))]"
     },
     "execution_count": 11,
     "metadata": {},
     "output_type": "execute_result"
    }
   ],
   "source": [
    "paisesMedallas.filter(lambda l: '65' == l[0]).take(100)"
   ],
   "metadata": {
    "collapsed": false,
    "pycharm": {
     "name": "#%%\n"
    }
   }
  },
  {
   "cell_type": "markdown",
   "source": [
    "###### Country medal score"
   ],
   "metadata": {
    "collapsed": false,
    "pycharm": {
     "name": "#%% md\n"
    }
   }
  },
  {
   "cell_type": "code",
   "execution_count": 12,
   "outputs": [],
   "source": [
    "#medal values\n",
    "valoresMedallas = {\n",
    "    'Gold': 7,\n",
    "    'Silver': 5,\n",
    "    'Bronze': 4\n",
    "}"
   ],
   "metadata": {
    "collapsed": false,
    "pycharm": {
     "name": "#%%\n"
    }
   }
  },
  {
   "cell_type": "code",
   "execution_count": 30,
   "outputs": [],
   "source": [
    "paisesMedallas = paisesMedallas \\\n",
    "                .map(lambda x: (x[1][0][-1], valoresMedallas[x[1][1]]))"
   ],
   "metadata": {
    "collapsed": false,
    "pycharm": {
     "name": "#%%\n"
    }
   }
  },
  {
   "cell_type": "code",
   "execution_count": 31,
   "outputs": [
    {
     "name": "stderr",
     "output_type": "stream",
     "text": [
      "                                                                                \r"
     ]
    },
    {
     "data": {
      "text/plain": "[('CHN', 5), ('CHN', 4), ('CHN', 5), ('CHN', 5), ('CHN', 5)]"
     },
     "execution_count": 31,
     "metadata": {},
     "output_type": "execute_result"
    }
   ],
   "source": [
    "paisesMedallas.take(5)"
   ],
   "metadata": {
    "collapsed": false,
    "pycharm": {
     "name": "#%%\n"
    }
   }
  },
  {
   "cell_type": "code",
   "execution_count": 32,
   "outputs": [],
   "source": [
    "from operator import add"
   ],
   "metadata": {
    "collapsed": false,
    "pycharm": {
     "name": "#%%\n"
    }
   }
  },
  {
   "cell_type": "code",
   "execution_count": 35,
   "outputs": [],
   "source": [
    "conclusion = paisesMedallas.reduceByKey(add).sortBy(lambda x: x[1], ascending=False)"
   ],
   "metadata": {
    "collapsed": false,
    "pycharm": {
     "name": "#%%\n"
    }
   }
  },
  {
   "cell_type": "code",
   "execution_count": 38,
   "outputs": [
    {
     "data": {
      "text/plain": "[('USA', 32137),\n ('URS', 14834),\n ('GBR', 10925),\n ('GER', 10896),\n ('FRA', 9265),\n ('ITA', 8755),\n ('SWE', 8110),\n ('CAN', 7209),\n ('AUS', 6755),\n ('HUN', 6142)]"
     },
     "execution_count": 38,
     "metadata": {},
     "output_type": "execute_result"
    }
   ],
   "source": [
    "conclusion.take(10)"
   ],
   "metadata": {
    "collapsed": false,
    "pycharm": {
     "name": "#%%\n"
    }
   }
  },
  {
   "cell_type": "code",
   "execution_count": 39,
   "outputs": [],
   "source": [
    "sc.stop()"
   ],
   "metadata": {
    "collapsed": false,
    "pycharm": {
     "name": "#%%\n"
    }
   }
  }
 ],
 "metadata": {
  "kernelspec": {
   "display_name": "Python 3",
   "language": "python",
   "name": "python3"
  },
  "language_info": {
   "codemirror_mode": {
    "name": "ipython",
    "version": 2
   },
   "file_extension": ".py",
   "mimetype": "text/x-python",
   "name": "python",
   "nbconvert_exporter": "python",
   "pygments_lexer": "ipython2",
   "version": "2.7.6"
  }
 },
 "nbformat": 4,
 "nbformat_minor": 0
}